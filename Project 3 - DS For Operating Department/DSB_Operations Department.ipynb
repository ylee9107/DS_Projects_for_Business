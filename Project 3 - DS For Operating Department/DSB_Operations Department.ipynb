{
 "cells": [
  {
   "cell_type": "markdown",
   "metadata": {},
   "source": [
    "# DS for Business Project 3 - Operations Department\n",
    "\n",
    "## Introduction:\n",
    "\n",
    "In this project, the Operations department is part of a hospital that is taking a deep learning approach to look for patterns and methods to speed up the process of testing and diagnostics. As everyone should be familiar by now, in the begining of the year 2020, there was the Coronavirus (Covid-19) outbreak and in this project, the goal is to tackle the challenge of developing an automated system that is able process, detect and classify these chest diseases. The drive here is to save on costs and time for detecting these chest diseases. It is the hope that the model is able to classify these diseases accurately (as well as possible) in less than 1 minute. This dataset consists of X-ray(PA-CXR) images of COVID-19, bacterial and viral pneumonia patients and normal people, where more information can be found in the \"Dataset\" section below. \n",
    "\n",
    "##### Below shows an example of a Chest CT images of a 29-year-old man with fever for 6 days:\n",
    "\n",
    "<img src=\"Description Images/Coronavirus_COVID_19_CT_Scans_from_China_pub_in_Radiology.png\" width=\"450\">\n",
    "\n",
    "Image Ref -> https://www.itnonline.com/content/ct-provides-best-diagnosis-novel-coronavirus-covid-19\n",
    "\n",
    "It would take experience Medical Professionals several minutes or more to confirm or at least partially confirm the results of such a scan. The limiting operational factor here is that this has to be done on a case by case basis, essentially forming a bottleneck in the overall diagnosis process. It is the hope of a Data Scientist to build a model that can speed this part of the process up so that the conclusion can be reach at a faster rate. \n",
    "\n",
    "## Breakdown of this Project:\n",
    "1. Loading in the Dataset.\n",
    "2. Exploratory Data Analysis (Visualise the data).\n",
    "3. Examining the Outliers.\n",
    "4. Dataset preparation (Data cleaning, training and testing splits)\n",
    "5. Building the CNN Model  (ResNet)\n",
    "6. Training the Model.\n",
    "7. Evaluating the Model.\n",
    "8. Prediction implementation.\n",
    "\n",
    "\n",
    "## Dataset:\n",
    "\n",
    "Link: https://www.kaggle.com/unaissait/curated-chest-xray-image-dataset-for-covid19\n",
    "\n",
    "As quoted from the link, the description is:\n",
    "\n",
    "This is a combined curated dataset of COVID-19 Chest X-ray images obtained by collating 15 publically available datasets as listed under the references section. The present dataset \n",
    "contains:\n",
    "- 1281 COVID-19 X-Rays.\n",
    "- 3270 Normal X-Rays.\n",
    "- 1656 viral-pneumonia X-Rays.\n",
    "- 3001 bacterial-pneumonia X-Rays.\n",
    "\n",
    "## Requirements:\n",
    "- Numpy\n",
    "- Pandas\n",
    "- Seaborn\n",
    "- Matplotlib\n",
    "- scikit-learn (sklearn)\n",
    "- os\n",
    "- timeit\n",
    "- tensorflow (or Keras)"
   ]
  },
  {
   "cell_type": "markdown",
   "metadata": {},
   "source": [
    "## 1 - Setting up the Libraries:"
   ]
  },
  {
   "cell_type": "code",
   "execution_count": null,
   "metadata": {},
   "outputs": [],
   "source": [
    "# Import the required Library:\n",
    "import os\n",
    "import timeit\n",
    "import numpy as np\n",
    "import pandas as pd\n",
    "import tensorflow as tf\n",
    "import seaborn as sns\n",
    "import matplotlib.pyplot as plt\n",
    "\n",
    "# Run on GPU:\n",
    "os.environ[\"CUDA_VISIBLE_DEVICES\"]= \"0\" \n"
   ]
  },
  {
   "cell_type": "markdown",
   "metadata": {},
   "source": [
    "## 2 - Load in the Dataset\n",
    "\n"
   ]
  },
  {
   "cell_type": "code",
   "execution_count": null,
   "metadata": {},
   "outputs": [],
   "source": [
    "# Dataset Filename:\n",
    "dataset_fileName = '.csv'\n",
    "\n",
    "# Set up the Working Directory:\n",
    "currentDirectory = os.getcwd()\n",
    "path_to_dataset = currentDirectory + '/Dataset/' + dataset_fileName"
   ]
  },
  {
   "cell_type": "code",
   "execution_count": null,
   "metadata": {},
   "outputs": [],
   "source": [
    "# Load in the File: .csv format\n",
    "marketing_data_df = pd.read_csv(path_to_dataset)"
   ]
  },
  {
   "cell_type": "code",
   "execution_count": null,
   "metadata": {},
   "outputs": [],
   "source": []
  },
  {
   "cell_type": "code",
   "execution_count": null,
   "metadata": {},
   "outputs": [],
   "source": []
  },
  {
   "cell_type": "code",
   "execution_count": null,
   "metadata": {},
   "outputs": [],
   "source": []
  },
  {
   "cell_type": "code",
   "execution_count": null,
   "metadata": {},
   "outputs": [],
   "source": []
  },
  {
   "cell_type": "code",
   "execution_count": null,
   "metadata": {},
   "outputs": [],
   "source": []
  },
  {
   "cell_type": "code",
   "execution_count": null,
   "metadata": {},
   "outputs": [],
   "source": []
  },
  {
   "cell_type": "code",
   "execution_count": null,
   "metadata": {},
   "outputs": [],
   "source": []
  },
  {
   "cell_type": "code",
   "execution_count": null,
   "metadata": {},
   "outputs": [],
   "source": []
  },
  {
   "cell_type": "code",
   "execution_count": null,
   "metadata": {},
   "outputs": [],
   "source": []
  },
  {
   "cell_type": "code",
   "execution_count": null,
   "metadata": {},
   "outputs": [],
   "source": []
  },
  {
   "cell_type": "code",
   "execution_count": null,
   "metadata": {},
   "outputs": [],
   "source": []
  },
  {
   "cell_type": "code",
   "execution_count": null,
   "metadata": {},
   "outputs": [],
   "source": []
  },
  {
   "cell_type": "code",
   "execution_count": null,
   "metadata": {},
   "outputs": [],
   "source": []
  },
  {
   "cell_type": "code",
   "execution_count": null,
   "metadata": {},
   "outputs": [],
   "source": []
  },
  {
   "cell_type": "code",
   "execution_count": null,
   "metadata": {},
   "outputs": [],
   "source": []
  },
  {
   "cell_type": "code",
   "execution_count": null,
   "metadata": {},
   "outputs": [],
   "source": []
  },
  {
   "cell_type": "code",
   "execution_count": null,
   "metadata": {},
   "outputs": [],
   "source": []
  },
  {
   "cell_type": "code",
   "execution_count": null,
   "metadata": {},
   "outputs": [],
   "source": []
  },
  {
   "cell_type": "code",
   "execution_count": null,
   "metadata": {},
   "outputs": [],
   "source": []
  },
  {
   "cell_type": "code",
   "execution_count": null,
   "metadata": {},
   "outputs": [],
   "source": []
  },
  {
   "cell_type": "code",
   "execution_count": null,
   "metadata": {},
   "outputs": [],
   "source": [
    "break"
   ]
  },
  {
   "cell_type": "code",
   "execution_count": null,
   "metadata": {},
   "outputs": [],
   "source": [
    "<img src=\"Description Images/.png\" width=\"750\">\n",
    "\n",
    "Image Ref -> "
   ]
  }
 ],
 "metadata": {
  "kernelspec": {
   "display_name": "Python 3",
   "language": "python",
   "name": "python3"
  },
  "language_info": {
   "codemirror_mode": {
    "name": "ipython",
    "version": 3
   },
   "file_extension": ".py",
   "mimetype": "text/x-python",
   "name": "python",
   "nbconvert_exporter": "python",
   "pygments_lexer": "ipython3",
   "version": "3.7.7"
  }
 },
 "nbformat": 4,
 "nbformat_minor": 4
}
