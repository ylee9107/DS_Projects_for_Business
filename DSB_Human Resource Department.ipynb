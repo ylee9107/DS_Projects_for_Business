{
 "cells": [
  {
   "cell_type": "markdown",
   "metadata": {},
   "source": [
    "# DS for Business Project 1 - Human Resource (HR) Department\n",
    "\n",
    "## Introduction:\n",
    "\n",
    "The goal of this project is to develop a model that lowers the costs associated with hiring and training employees, this is done by focusing on the predicting which employees might leave the company. Within any organisation/company, the approach towards spending decisions every day plays a major role in company success and one of these decisions would be the important investment in people. The hiring process takes up a lot of skills, patience, time and money. \n",
    "\n",
    "The following outlines the most common hiring costs:\n",
    "1. External Hiring Teams.\n",
    "2. Internal HR Teams.\n",
    "3. Career Events.\n",
    "4. Job boards fees.\n",
    "5. Background Checks.\n",
    "6. Onboarding and training.\n",
    "7. Careers page.\n",
    "8. Salary and extras.\n",
    "\n",
    "As it can be seen from the lists above, it can be very difficult to pinpoint precisely the costs that are associated with hiring an employee. With all these rigorous processes already set up for a given company, perhaps there are better questions to ask, such as:\n",
    "1. Which employee will stay and which will leave?\n",
    "2. What are the factors that leads to an employee leaving the company and how it can be predicted?\n",
    "\n",
    "## Breakdown of this Project:\n",
    "1. Loading in the Dataset.\n",
    "2. Visualise the data.\n",
    "3. Dataset preparation (Data cleaning, training and testing splits)\n",
    "4. Classifier models (Logistic Regression, Neural Networks, Random Forest)\n",
    "5. Evaluation methodologies (Accuracy, Precision, Recall and F1-Scores)\n",
    "6. Classifier Model training and its evaluation.\n",
    "\n",
    "## Dataset:\n",
    "\n",
    "Link: https://www.kaggle.com/pavansubhasht/ibm-hr-analytics-attrition-dataset\n",
    "\n",
    "Dataset Description (from source): Uncover the factors that lead to employee attrition and explore important questions such as ‘show me a breakdown of distance from home by job role and attrition’ or ‘compare average monthly income by education and attrition’. This is a fictional data set created by IBM data scientists. \n",
    "\n",
    "What Is Attrition? \\\n",
    "Attrition in business describes a gradual but deliberate reduction in staff numbers that occurs as employees retire or resign and are not replaced. The term is also sometimes used to describe the loss of customers or clients as they mature beyond a product or company's target market without being replaced by a younger generation. (ref -> https://www.investopedia.com/terms/a/attrition.asp)\n",
    "\n",
    "The following shows the dataset's columns:\n",
    "- Education\n",
    "- EnvironmentSatisfaction\n",
    "- JobInvolvement\n",
    "- JobSatisfaction\n",
    "- PerformanceRating\n",
    "- RelationshipSatisfaction\n",
    "- WorkLifeBalance\n",
    "\n",
    "## Requirements:\n",
    "- Numpy\n",
    "- \n"
   ]
  },
  {
   "cell_type": "code",
   "execution_count": null,
   "metadata": {},
   "outputs": [],
   "source": []
  },
  {
   "cell_type": "code",
   "execution_count": null,
   "metadata": {},
   "outputs": [],
   "source": []
  },
  {
   "cell_type": "code",
   "execution_count": null,
   "metadata": {},
   "outputs": [],
   "source": []
  },
  {
   "cell_type": "code",
   "execution_count": null,
   "metadata": {},
   "outputs": [],
   "source": []
  },
  {
   "cell_type": "code",
   "execution_count": null,
   "metadata": {},
   "outputs": [],
   "source": []
  },
  {
   "cell_type": "code",
   "execution_count": null,
   "metadata": {},
   "outputs": [],
   "source": []
  },
  {
   "cell_type": "code",
   "execution_count": null,
   "metadata": {},
   "outputs": [],
   "source": []
  },
  {
   "cell_type": "code",
   "execution_count": null,
   "metadata": {},
   "outputs": [],
   "source": []
  },
  {
   "cell_type": "code",
   "execution_count": null,
   "metadata": {},
   "outputs": [],
   "source": []
  },
  {
   "cell_type": "code",
   "execution_count": null,
   "metadata": {},
   "outputs": [],
   "source": []
  },
  {
   "cell_type": "code",
   "execution_count": null,
   "metadata": {},
   "outputs": [],
   "source": []
  },
  {
   "cell_type": "code",
   "execution_count": null,
   "metadata": {},
   "outputs": [],
   "source": []
  }
 ],
 "metadata": {
  "kernelspec": {
   "display_name": "Python 3",
   "language": "python",
   "name": "python3"
  },
  "language_info": {
   "codemirror_mode": {
    "name": "ipython",
    "version": 3
   },
   "file_extension": ".py",
   "mimetype": "text/x-python",
   "name": "python",
   "nbconvert_exporter": "python",
   "pygments_lexer": "ipython3",
   "version": "3.7.7"
  }
 },
 "nbformat": 4,
 "nbformat_minor": 4
}
